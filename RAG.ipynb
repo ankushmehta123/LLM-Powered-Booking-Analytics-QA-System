{
 "cells": [
  {
   "cell_type": "code",
   "execution_count": 1,
   "metadata": {},
   "outputs": [],
   "source": [
    "import os\n",
    "from langchain_ollama import OllamaEmbeddings\n",
    "import faiss\n",
    "import numpy as np\n",
    "from langchain.document_loaders import CSVLoader\n",
    "from langchain.text_splitter import RecursiveCharacterTextSplitter"
   ]
  },
  {
   "cell_type": "code",
   "execution_count": 2,
   "metadata": {},
   "outputs": [],
   "source": [
    "# Load data\n",
    "loader = CSVLoader('hotel_bookings_cleaned.csv')\n",
    "data = loader.load()"
   ]
  },
  {
   "cell_type": "code",
   "execution_count": 3,
   "metadata": {},
   "outputs": [
    {
     "data": {
      "text/plain": [
       "[Document(metadata={'source': 'hotel_bookings_cleaned.csv', 'row': 0}, page_content=': 0\\nhotel: Resort Hotel\\nis_canceled: 0\\nlead_time: 342\\narrival_date_year: 2015\\narrival_date_month: July\\narrival_date_week_number: 27\\narrival_date_day_of_month: 1\\nstays_in_weekend_nights: 0\\nstays_in_week_nights: 0\\nadults: 2\\nchildren: 0.0\\nbabies: 0\\nmeal: BB\\ncountry: PRT\\nmarket_segment: Direct\\ndistribution_channel: Direct\\nis_repeated_guest: 0\\nprevious_cancellations: 0\\nprevious_bookings_not_canceled: 0\\nreserved_room_type: C\\nassigned_room_type: C\\nbooking_changes: 3\\ndeposit_type: No Deposit\\nagent: 9\\ndays_in_waiting_list: 0\\ncustomer_type: Transient\\nadr: 0.0\\nrequired_car_parking_spaces: 0\\ntotal_of_special_requests: 0\\nreservation_status: Check-Out\\nreservation_status_date: 2015-07-01\\nis_corporate: 0\\nrevenue: 0.0'),\n",
       " Document(metadata={'source': 'hotel_bookings_cleaned.csv', 'row': 1}, page_content=': 1\\nhotel: Resort Hotel\\nis_canceled: 0\\nlead_time: 737\\narrival_date_year: 2015\\narrival_date_month: July\\narrival_date_week_number: 27\\narrival_date_day_of_month: 1\\nstays_in_weekend_nights: 0\\nstays_in_week_nights: 0\\nadults: 2\\nchildren: 0.0\\nbabies: 0\\nmeal: BB\\ncountry: PRT\\nmarket_segment: Direct\\ndistribution_channel: Direct\\nis_repeated_guest: 0\\nprevious_cancellations: 0\\nprevious_bookings_not_canceled: 0\\nreserved_room_type: C\\nassigned_room_type: C\\nbooking_changes: 4\\ndeposit_type: No Deposit\\nagent: 9\\ndays_in_waiting_list: 0\\ncustomer_type: Transient\\nadr: 0.0\\nrequired_car_parking_spaces: 0\\ntotal_of_special_requests: 0\\nreservation_status: Check-Out\\nreservation_status_date: 2015-07-01\\nis_corporate: 0\\nrevenue: 0.0'),\n",
       " Document(metadata={'source': 'hotel_bookings_cleaned.csv', 'row': 2}, page_content=': 2\\nhotel: Resort Hotel\\nis_canceled: 0\\nlead_time: 7\\narrival_date_year: 2015\\narrival_date_month: July\\narrival_date_week_number: 27\\narrival_date_day_of_month: 1\\nstays_in_weekend_nights: 0\\nstays_in_week_nights: 1\\nadults: 1\\nchildren: 0.0\\nbabies: 0\\nmeal: BB\\ncountry: GBR\\nmarket_segment: Direct\\ndistribution_channel: Direct\\nis_repeated_guest: 0\\nprevious_cancellations: 0\\nprevious_bookings_not_canceled: 0\\nreserved_room_type: A\\nassigned_room_type: C\\nbooking_changes: 0\\ndeposit_type: No Deposit\\nagent: 9\\ndays_in_waiting_list: 0\\ncustomer_type: Transient\\nadr: 75.0\\nrequired_car_parking_spaces: 0\\ntotal_of_special_requests: 0\\nreservation_status: Check-Out\\nreservation_status_date: 2015-07-02\\nis_corporate: 0\\nrevenue: 75.0'),\n",
       " Document(metadata={'source': 'hotel_bookings_cleaned.csv', 'row': 3}, page_content=': 3\\nhotel: Resort Hotel\\nis_canceled: 0\\nlead_time: 13\\narrival_date_year: 2015\\narrival_date_month: July\\narrival_date_week_number: 27\\narrival_date_day_of_month: 1\\nstays_in_weekend_nights: 0\\nstays_in_week_nights: 1\\nadults: 1\\nchildren: 0.0\\nbabies: 0\\nmeal: BB\\ncountry: GBR\\nmarket_segment: Corporate\\ndistribution_channel: Corporate\\nis_repeated_guest: 0\\nprevious_cancellations: 0\\nprevious_bookings_not_canceled: 0\\nreserved_room_type: A\\nassigned_room_type: A\\nbooking_changes: 0\\ndeposit_type: No Deposit\\nagent: 304\\ndays_in_waiting_list: 0\\ncustomer_type: Transient\\nadr: 75.0\\nrequired_car_parking_spaces: 0\\ntotal_of_special_requests: 0\\nreservation_status: Check-Out\\nreservation_status_date: 2015-07-02\\nis_corporate: 0\\nrevenue: 75.0'),\n",
       " Document(metadata={'source': 'hotel_bookings_cleaned.csv', 'row': 4}, page_content=': 4\\nhotel: Resort Hotel\\nis_canceled: 0\\nlead_time: 14\\narrival_date_year: 2015\\narrival_date_month: July\\narrival_date_week_number: 27\\narrival_date_day_of_month: 1\\nstays_in_weekend_nights: 0\\nstays_in_week_nights: 2\\nadults: 2\\nchildren: 0.0\\nbabies: 0\\nmeal: BB\\ncountry: GBR\\nmarket_segment: Online TA\\ndistribution_channel: TA/TO\\nis_repeated_guest: 0\\nprevious_cancellations: 0\\nprevious_bookings_not_canceled: 0\\nreserved_room_type: A\\nassigned_room_type: A\\nbooking_changes: 0\\ndeposit_type: No Deposit\\nagent: 240\\ndays_in_waiting_list: 0\\ncustomer_type: Transient\\nadr: 98.0\\nrequired_car_parking_spaces: 0\\ntotal_of_special_requests: 1\\nreservation_status: Check-Out\\nreservation_status_date: 2015-07-03\\nis_corporate: 0\\nrevenue: 196.0')]"
      ]
     },
     "execution_count": 3,
     "metadata": {},
     "output_type": "execute_result"
    }
   ],
   "source": [
    "text_splitter = RecursiveCharacterTextSplitter(chunk_size=1000, chunk_overlap=20)\n",
    "text_splitter.split_documents(data)[:5]"
   ]
  },
  {
   "cell_type": "code",
   "execution_count": null,
   "metadata": {},
   "outputs": [],
   "source": [
    "documents = text_splitter.split_documents(data)\n",
    "documents"
   ]
  },
  {
   "cell_type": "code",
   "execution_count": 5,
   "metadata": {},
   "outputs": [],
   "source": [
    "from langchain_community.vectorstores import FAISS"
   ]
  },
  {
   "cell_type": "code",
   "execution_count": 8,
   "metadata": {},
   "outputs": [],
   "source": [
    "db = FAISS.from_documents(documents,OllamaEmbeddings(model=\"nomic-embed-text\"))"
   ]
  },
  {
   "cell_type": "code",
   "execution_count": 9,
   "metadata": {},
   "outputs": [
    {
     "data": {
      "text/plain": [
       "': 32300\\nhotel: Resort Hotel\\nis_canceled: 0\\nlead_time: 312\\narrival_date_year: 2017\\narrival_date_month: July\\narrival_date_week_number: 27\\narrival_date_day_of_month: 2\\nstays_in_weekend_nights: 4\\nstays_in_week_nights: 10\\nadults: 2\\nchildren: 0.0\\nbabies: 0\\nmeal: BB\\ncountry: GBR\\nmarket_segment: Offline TA/TO\\ndistribution_channel: TA/TO\\nis_repeated_guest: 0\\nprevious_cancellations: 0\\nprevious_bookings_not_canceled: 0\\nreserved_room_type: A\\nassigned_room_type: A\\nbooking_changes: 0\\ndeposit_type: No Deposit\\nagent: 243\\ndays_in_waiting_list: 0\\ncustomer_type: Contract\\nadr: 104.85\\nrequired_car_parking_spaces: 0\\ntotal_of_special_requests: 1\\nreservation_status: Check-Out\\nreservation_status_date: 2017-07-16\\nis_corporate: 0\\nrevenue: 1467.8999999999999'"
      ]
     },
     "execution_count": 9,
     "metadata": {},
     "output_type": "execute_result"
    }
   ],
   "source": [
    "query = \"Show me total revenue for July 2017.\"\n",
    "result = db.similarity_search(query)\n",
    "result[0].page_content"
   ]
  },
  {
   "cell_type": "code",
   "execution_count": 10,
   "metadata": {},
   "outputs": [
    {
     "name": "stderr",
     "output_type": "stream",
     "text": [
      "C:\\Users\\ANKUSH\\AppData\\Local\\Temp\\ipykernel_6116\\3581457246.py:3: LangChainDeprecationWarning: The class `Ollama` was deprecated in LangChain 0.3.1 and will be removed in 1.0.0. An updated version of the class exists in the :class:`~langchain-ollama package and should be used instead. To use it run `pip install -U :class:`~langchain-ollama` and import as `from :class:`~langchain_ollama import OllamaLLM``.\n",
      "  llm = Ollama(model=\"llama2\")\n"
     ]
    },
    {
     "data": {
      "text/plain": [
       "Ollama()"
      ]
     },
     "execution_count": 10,
     "metadata": {},
     "output_type": "execute_result"
    }
   ],
   "source": [
    "from langchain_community.llms import Ollama\n",
    "\n",
    "llm = Ollama(model=\"llama2\")\n",
    "llm"
   ]
  },
  {
   "cell_type": "code",
   "execution_count": 11,
   "metadata": {},
   "outputs": [],
   "source": [
    "## Design a chat prompt template\n",
    "from langchain_core.prompts import ChatPromptTemplate\n",
    "prompt = ChatPromptTemplate.from_template(\"\"\"\n",
    "Answer the following question based only on the provided context.\n",
    "Think step by step before providing a detailed answer.\n",
    "I will tip you $1000 if the user finds the answer helpful.\n",
    "NO PREAMBLE\n",
    "<context>           \n",
    "{context}\n",
    "</context> \n",
    "Question: {input}\n",
    "\"\"\")\n"
   ]
  },
  {
   "cell_type": "code",
   "execution_count": 12,
   "metadata": {},
   "outputs": [],
   "source": [
    "from langchain.chains.combine_documents import create_stuff_documents_chain\n",
    "\n",
    "document_chain = create_stuff_documents_chain(llm,prompt)"
   ]
  },
  {
   "cell_type": "code",
   "execution_count": 13,
   "metadata": {},
   "outputs": [
    {
     "data": {
      "text/plain": [
       "VectorStoreRetriever(tags=['FAISS', 'OllamaEmbeddings'], vectorstore=<langchain_community.vectorstores.faiss.FAISS object at 0x000001723494FB20>, search_kwargs={})"
      ]
     },
     "execution_count": 13,
     "metadata": {},
     "output_type": "execute_result"
    }
   ],
   "source": [
    "retriever = db.as_retriever()\n",
    "retriever"
   ]
  },
  {
   "cell_type": "code",
   "execution_count": 14,
   "metadata": {},
   "outputs": [],
   "source": [
    "from langchain.chains import create_retrieval_chain\n",
    "retrieval_chain = create_retrieval_chain(retriever,document_chain)"
   ]
  },
  {
   "cell_type": "code",
   "execution_count": 16,
   "metadata": {},
   "outputs": [],
   "source": [
    "response = retrieval_chain.invoke({\"input\":\"Show me total revenue for July 2017.\"})"
   ]
  },
  {
   "cell_type": "code",
   "execution_count": 17,
   "metadata": {},
   "outputs": [
    {
     "data": {
      "text/plain": [
       "\" Based on the provided context, the total revenue for July 2017 is $2,687.899999999999.\\n\\nHere's how I calculated it:\\n\\n* Revenue for hotel ID 32300: $1467.899999999999\\n* Revenue for hotel ID 32400: $988.00\\n* Revenue for hotel ID 19167: $270.00\\n\\nTotal revenue = $1467.899999999999 + $988.00 + $270.00 = $2,687.8999999999999\""
      ]
     },
     "execution_count": 17,
     "metadata": {},
     "output_type": "execute_result"
    }
   ],
   "source": [
    "response['answer']"
   ]
  }
 ],
 "metadata": {
  "kernelspec": {
   "display_name": "py39",
   "language": "python",
   "name": "python3"
  },
  "language_info": {
   "codemirror_mode": {
    "name": "ipython",
    "version": 3
   },
   "file_extension": ".py",
   "mimetype": "text/x-python",
   "name": "python",
   "nbconvert_exporter": "python",
   "pygments_lexer": "ipython3",
   "version": "3.9.21"
  }
 },
 "nbformat": 4,
 "nbformat_minor": 2
}
