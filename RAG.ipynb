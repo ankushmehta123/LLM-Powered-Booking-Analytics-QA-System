{
 "cells": [
  {
   "cell_type": "code",
   "execution_count": 31,
   "metadata": {},
   "outputs": [],
   "source": [
    "import os\n",
    "from langchain_ollama import OllamaEmbeddings\n",
    "import faiss\n",
    "import numpy as np\n",
    "from langchain.document_loaders import CSVLoader\n",
    "from langchain.text_splitter import RecursiveCharacterTextSplitter\n",
    "import warnings\n",
    "warnings.filterwarnings(\"ignore\")"
   ]
  },
  {
   "cell_type": "code",
   "execution_count": 32,
   "metadata": {},
   "outputs": [],
   "source": [
    "# Load data\n",
    "loader = CSVLoader('data/hotel_bookings_cleaned.csv')\n",
    "data = loader.load()"
   ]
  },
  {
   "cell_type": "code",
   "execution_count": 33,
   "metadata": {},
   "outputs": [
    {
     "data": {
      "text/plain": [
       "[Document(metadata={'source': 'data/hotel_bookings_cleaned.csv', 'row': 0}, page_content=': 0\\nhotel: Resort Hotel\\nis_canceled: 0\\nlead_time: 342\\narrival_date_year: 2015\\narrival_date_month: July\\narrival_date_week_number: 27\\narrival_date_day_of_month: 1\\nstays_in_weekend_nights: 0\\nstays_in_week_nights: 0\\nadults: 2\\nchildren: 0\\nbabies: 0\\nmeal: BB\\ncountry: PRT\\nmarket_segment: Direct\\ndistribution_channel: Direct\\nis_repeated_guest: 0\\nprevious_cancellations: 0\\nprevious_bookings_not_canceled: 0\\nreserved_room_type: C\\nassigned_room_type: C\\nbooking_changes: 3\\ndeposit_type: No Deposit\\nagent: 9'),\n",
       " Document(metadata={'source': 'data/hotel_bookings_cleaned.csv', 'row': 0}, page_content='reserved_room_type: C\\nassigned_room_type: C\\nbooking_changes: 3\\ndeposit_type: No Deposit\\nagent: 9\\ndays_in_waiting_list: 0\\ncustomer_type: Transient\\nadr: 0\\nrequired_car_parking_spaces: 0\\ntotal_of_special_requests: 0\\nreservation_status: Check-Out\\nreservation_status_date: 01-07-2015\\nis_corporate: 0\\nrevenue: 0'),\n",
       " Document(metadata={'source': 'data/hotel_bookings_cleaned.csv', 'row': 1}, page_content=': 1\\nhotel: Resort Hotel\\nis_canceled: 0\\nlead_time: 737\\narrival_date_year: 2015\\narrival_date_month: July\\narrival_date_week_number: 27\\narrival_date_day_of_month: 1\\nstays_in_weekend_nights: 0\\nstays_in_week_nights: 0\\nadults: 2\\nchildren: 0\\nbabies: 0\\nmeal: BB\\ncountry: PRT\\nmarket_segment: Direct\\ndistribution_channel: Direct\\nis_repeated_guest: 0\\nprevious_cancellations: 0\\nprevious_bookings_not_canceled: 0\\nreserved_room_type: C\\nassigned_room_type: C\\nbooking_changes: 4\\ndeposit_type: No Deposit\\nagent: 9'),\n",
       " Document(metadata={'source': 'data/hotel_bookings_cleaned.csv', 'row': 1}, page_content='reserved_room_type: C\\nassigned_room_type: C\\nbooking_changes: 4\\ndeposit_type: No Deposit\\nagent: 9\\ndays_in_waiting_list: 0\\ncustomer_type: Transient\\nadr: 0\\nrequired_car_parking_spaces: 0\\ntotal_of_special_requests: 0\\nreservation_status: Check-Out\\nreservation_status_date: 01-07-2015\\nis_corporate: 0\\nrevenue: 0'),\n",
       " Document(metadata={'source': 'data/hotel_bookings_cleaned.csv', 'row': 2}, page_content=': 2\\nhotel: Resort Hotel\\nis_canceled: 0\\nlead_time: 7\\narrival_date_year: 2015\\narrival_date_month: July\\narrival_date_week_number: 27\\narrival_date_day_of_month: 1\\nstays_in_weekend_nights: 0\\nstays_in_week_nights: 1\\nadults: 1\\nchildren: 0\\nbabies: 0\\nmeal: BB\\ncountry: GBR\\nmarket_segment: Direct\\ndistribution_channel: Direct\\nis_repeated_guest: 0\\nprevious_cancellations: 0\\nprevious_bookings_not_canceled: 0\\nreserved_room_type: A\\nassigned_room_type: C\\nbooking_changes: 0\\ndeposit_type: No Deposit\\nagent: 9')]"
      ]
     },
     "execution_count": 33,
     "metadata": {},
     "output_type": "execute_result"
    }
   ],
   "source": [
    "text_splitter = RecursiveCharacterTextSplitter(chunk_size=500, chunk_overlap=100)\n",
    "text_splitter.split_documents(data)[:5]"
   ]
  },
  {
   "cell_type": "code",
   "execution_count": 34,
   "metadata": {},
   "outputs": [
    {
     "data": {
      "text/plain": [
       "[Document(metadata={'source': 'data/hotel_bookings_cleaned.csv', 'row': 0}, page_content=': 0\\nhotel: Resort Hotel\\nis_canceled: 0\\nlead_time: 342\\narrival_date_year: 2015\\narrival_date_month: July\\narrival_date_week_number: 27\\narrival_date_day_of_month: 1\\nstays_in_weekend_nights: 0\\nstays_in_week_nights: 0\\nadults: 2\\nchildren: 0\\nbabies: 0\\nmeal: BB\\ncountry: PRT\\nmarket_segment: Direct\\ndistribution_channel: Direct\\nis_repeated_guest: 0\\nprevious_cancellations: 0\\nprevious_bookings_not_canceled: 0\\nreserved_room_type: C\\nassigned_room_type: C\\nbooking_changes: 3\\ndeposit_type: No Deposit\\nagent: 9'),\n",
       " Document(metadata={'source': 'data/hotel_bookings_cleaned.csv', 'row': 0}, page_content='reserved_room_type: C\\nassigned_room_type: C\\nbooking_changes: 3\\ndeposit_type: No Deposit\\nagent: 9\\ndays_in_waiting_list: 0\\ncustomer_type: Transient\\nadr: 0\\nrequired_car_parking_spaces: 0\\ntotal_of_special_requests: 0\\nreservation_status: Check-Out\\nreservation_status_date: 01-07-2015\\nis_corporate: 0\\nrevenue: 0'),\n",
       " Document(metadata={'source': 'data/hotel_bookings_cleaned.csv', 'row': 1}, page_content=': 1\\nhotel: Resort Hotel\\nis_canceled: 0\\nlead_time: 737\\narrival_date_year: 2015\\narrival_date_month: July\\narrival_date_week_number: 27\\narrival_date_day_of_month: 1\\nstays_in_weekend_nights: 0\\nstays_in_week_nights: 0\\nadults: 2\\nchildren: 0\\nbabies: 0\\nmeal: BB\\ncountry: PRT\\nmarket_segment: Direct\\ndistribution_channel: Direct\\nis_repeated_guest: 0\\nprevious_cancellations: 0\\nprevious_bookings_not_canceled: 0\\nreserved_room_type: C\\nassigned_room_type: C\\nbooking_changes: 4\\ndeposit_type: No Deposit\\nagent: 9'),\n",
       " Document(metadata={'source': 'data/hotel_bookings_cleaned.csv', 'row': 1}, page_content='reserved_room_type: C\\nassigned_room_type: C\\nbooking_changes: 4\\ndeposit_type: No Deposit\\nagent: 9\\ndays_in_waiting_list: 0\\ncustomer_type: Transient\\nadr: 0\\nrequired_car_parking_spaces: 0\\ntotal_of_special_requests: 0\\nreservation_status: Check-Out\\nreservation_status_date: 01-07-2015\\nis_corporate: 0\\nrevenue: 0'),\n",
       " Document(metadata={'source': 'data/hotel_bookings_cleaned.csv', 'row': 2}, page_content=': 2\\nhotel: Resort Hotel\\nis_canceled: 0\\nlead_time: 7\\narrival_date_year: 2015\\narrival_date_month: July\\narrival_date_week_number: 27\\narrival_date_day_of_month: 1\\nstays_in_weekend_nights: 0\\nstays_in_week_nights: 1\\nadults: 1\\nchildren: 0\\nbabies: 0\\nmeal: BB\\ncountry: GBR\\nmarket_segment: Direct\\ndistribution_channel: Direct\\nis_repeated_guest: 0\\nprevious_cancellations: 0\\nprevious_bookings_not_canceled: 0\\nreserved_room_type: A\\nassigned_room_type: C\\nbooking_changes: 0\\ndeposit_type: No Deposit\\nagent: 9')]"
      ]
     },
     "execution_count": 34,
     "metadata": {},
     "output_type": "execute_result"
    }
   ],
   "source": [
    "documents = text_splitter.split_documents(data)\n",
    "documents[:5]"
   ]
  },
  {
   "cell_type": "code",
   "execution_count": 35,
   "metadata": {},
   "outputs": [],
   "source": [
    "from langchain_community.vectorstores import FAISS"
   ]
  },
  {
   "cell_type": "code",
   "execution_count": 36,
   "metadata": {},
   "outputs": [],
   "source": [
    "db = FAISS.from_documents(documents,OllamaEmbeddings(model=\"nomic-embed-text\"))"
   ]
  },
  {
   "cell_type": "code",
   "execution_count": 37,
   "metadata": {},
   "outputs": [],
   "source": [
    "db.save_local('')"
   ]
  },
  {
   "cell_type": "code",
   "execution_count": 38,
   "metadata": {},
   "outputs": [
    {
     "data": {
      "text/plain": [
       "'reserved_room_type: D\\nassigned_room_type: D\\nbooking_changes: 0\\ndeposit_type: No Deposit\\nagent: 240\\ndays_in_waiting_list: 0\\ncustomer_type: Transient\\nadr: 139.5\\nrequired_car_parking_spaces: 1\\ntotal_of_special_requests: 1\\nreservation_status: Check-Out\\nreservation_status_date: 08-07-2016\\nis_corporate: 0\\nrevenue: 1953'"
      ]
     },
     "execution_count": 38,
     "metadata": {},
     "output_type": "execute_result"
    }
   ],
   "source": [
    "query = \"In which year adr is maximum\"\n",
    "result = db.similarity_search(query)\n",
    "result[0].page_content"
   ]
  },
  {
   "cell_type": "code",
   "execution_count": 39,
   "metadata": {},
   "outputs": [
    {
     "data": {
      "text/plain": [
       "Ollama()"
      ]
     },
     "execution_count": 39,
     "metadata": {},
     "output_type": "execute_result"
    }
   ],
   "source": [
    "from langchain_community.llms import Ollama\n",
    "\n",
    "llm = Ollama(model=\"llama2\")\n",
    "llm"
   ]
  },
  {
   "cell_type": "code",
   "execution_count": 40,
   "metadata": {},
   "outputs": [],
   "source": [
    "## Design a chat prompt template\n",
    "from langchain_core.prompts import ChatPromptTemplate\n",
    "prompt = ChatPromptTemplate.from_template(\"\"\"\n",
    "Answer the following question based only on the provided context.\n",
    "Think step by step before providing a detailed answer.\n",
    "I will tip you $1000 if the user finds the answer helpful.\n",
    "NO PREAMBLE\n",
    "<context>           \n",
    "{context}\n",
    "</context> \n",
    "Question: {input}\n",
    "\"\"\")\n"
   ]
  },
  {
   "cell_type": "code",
   "execution_count": 41,
   "metadata": {},
   "outputs": [],
   "source": [
    "from langchain.chains.combine_documents import create_stuff_documents_chain\n",
    "\n",
    "document_chain = create_stuff_documents_chain(llm,prompt)"
   ]
  },
  {
   "cell_type": "code",
   "execution_count": 42,
   "metadata": {},
   "outputs": [
    {
     "data": {
      "text/plain": [
       "VectorStoreRetriever(tags=['FAISS', 'OllamaEmbeddings'], vectorstore=<langchain_community.vectorstores.faiss.FAISS object at 0x00000232C7775370>, search_kwargs={})"
      ]
     },
     "execution_count": 42,
     "metadata": {},
     "output_type": "execute_result"
    }
   ],
   "source": [
    "retriever = db.as_retriever()\n",
    "retriever"
   ]
  },
  {
   "cell_type": "code",
   "execution_count": 43,
   "metadata": {},
   "outputs": [],
   "source": [
    "from langchain.chains import create_retrieval_chain\n",
    "retrieval_chain = create_retrieval_chain(retriever,document_chain)"
   ]
  },
  {
   "cell_type": "code",
   "execution_count": 46,
   "metadata": {},
   "outputs": [],
   "source": [
    "response = retrieval_chain.invoke({\"input\":\"Highest Revenue in which year \"})"
   ]
  },
  {
   "cell_type": "code",
   "execution_count": 47,
   "metadata": {},
   "outputs": [
    {
     "data": {
      "text/plain": [
       "'Based on the provided context, the highest revenue is $1408.96, which belongs to the reservation made in 2016 for the following reasons:\\n\\n1. The arrival date is in September 2016, which is the highest revenue-generating month based on the provided data.\\n2. The reservation was made through a corporate distribution channel, which generally generates higher revenue than other channels.\\n3. The reservation has no cancellations or previous bookings not canceled, indicating that the guest is likely to honor their reservation and generate revenue for the hotel.\\n4. The reserved room type is \"G\", which is the highest-revenue generating room type based on the provided data.\\n\\nTherefore, the answer to the question is 2016.'"
      ]
     },
     "execution_count": 47,
     "metadata": {},
     "output_type": "execute_result"
    }
   ],
   "source": [
    "response['answer']"
   ]
  }
 ],
 "metadata": {
  "kernelspec": {
   "display_name": "py39",
   "language": "python",
   "name": "python3"
  },
  "language_info": {
   "codemirror_mode": {
    "name": "ipython",
    "version": 3
   },
   "file_extension": ".py",
   "mimetype": "text/x-python",
   "name": "python",
   "nbconvert_exporter": "python",
   "pygments_lexer": "ipython3",
   "version": "3.9.21"
  }
 },
 "nbformat": 4,
 "nbformat_minor": 2
}
